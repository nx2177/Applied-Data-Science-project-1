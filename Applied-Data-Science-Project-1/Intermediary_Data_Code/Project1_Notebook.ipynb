{
 "cells": [
  {
   "cell_type": "markdown",
   "id": "d7a5c84a",
   "metadata": {},
   "source": [
    "## Gathering Data"
   ]
  },
  {
   "cell_type": "code",
   "execution_count": 60,
   "id": "444fb6b1",
   "metadata": {},
   "outputs": [
    {
     "name": "stdout",
     "output_type": "stream",
     "text": [
      "   2017.NAICS.Code                                   2017.NAICS.Title  \\\n",
      "0              NaN  Plastics Materials and Basic Forms and Shapes ...   \n",
      "1              NaN           Translation and Interpretation Services!   \n",
      "2              NaN                                    Dance Companie%   \n",
      "3              NaN       Other Chemical and Fertilizer Mineral Mining   \n",
      "4              NaN                                  Silver Ore Mining   \n",
      "\n",
      "        GHG                               Unit  \\\n",
      "0  All GHGs  kg CO2e/2022 USD, purchaser price   \n",
      "1  All GHGs  kg CO2e/2022 USD, purchaser price   \n",
      "2  All GHGs  kg CO2e/2022 USD, purchaser price   \n",
      "3  All GHGs  kg CO2e/2022 USD, purchaser price   \n",
      "4  All GHGs  kg CO2e/2022 USD, purchaser price   \n",
      "\n",
      "  Supply.Chain.Emission.Factors.without.Margins  \\\n",
      "0                                         0.144   \n",
      "1                                          0.08   \n",
      "2                                         0.086   \n",
      "3                                         0.184   \n",
      "4                                          0.54   \n",
      "\n",
      "   Margins.of.Supply.Chain.Emission.Factors  \\\n",
      "0                                      0.00   \n",
      "1                                      0.00   \n",
      "2                                      0.00   \n",
      "3                                      0.10   \n",
      "4                                      0.05   \n",
      "\n",
      "   Supply.Chain.Emission.Factors.with.Margins Reference.USEEIO.Code  \n",
      "0                                       0.144                424A0#  \n",
      "1                                       0.080                5419A0  \n",
      "2                                       0.086               711100!  \n",
      "3                                       0.310                2123A#  \n",
      "4                                       0.593                2122A#  \n"
     ]
    }
   ],
   "source": [
    "import pandas as pd\n",
    "import matplotlib.pyplot as plt\n",
    "import seaborn as sns\n",
    "import numpy as np\n",
    "\n",
    "file_path = \"datasets/v1_cleaned_messied_dataset.csv\"\n",
    "df = pd.read_csv(file_path)\n",
    "print(df.head())"
   ]
  },
  {
   "cell_type": "markdown",
   "id": "5640d7ff",
   "metadata": {},
   "source": [
    "## Cleaning"
   ]
  },
  {
   "cell_type": "code",
   "execution_count": 50,
   "id": "fd6706d8",
   "metadata": {},
   "outputs": [
    {
     "name": "stdout",
     "output_type": "stream",
     "text": [
      "Number of duplicate rows: 0\n"
     ]
    }
   ],
   "source": [
    "#Checking for duplicates\n",
    "duplicate_count = df.duplicated().sum()\n",
    "print(f\"Number of duplicate rows: {duplicate_count}\")\n",
    "df = df.drop_duplicates()"
   ]
  },
  {
   "cell_type": "code",
   "execution_count": 51,
   "id": "ff534cc5",
   "metadata": {},
   "outputs": [
    {
     "name": "stdout",
     "output_type": "stream",
     "text": [
      "[nan '111110' '111120' '111130' '111150' '111160' '111191' '111199'\n",
      " '111211' '111219']\n"
     ]
    }
   ],
   "source": [
    "#Clean the 2017.NAICS.Code column: remove all empty values and make strings with no decimals\n",
    "def clean_naics_code(value):\n",
    "    try:\n",
    "        return str(int(float(value))) if pd.notna(value) and str(value).strip() not in [\"\", \"nan\"] else np.nan\n",
    "    except ValueError:\n",
    "        return np.nan \n",
    "\n",
    "df[\"2017.NAICS.Code\"] = df[\"2017.NAICS.Code\"].apply(clean_naics_code)\n",
    "print(df[\"2017.NAICS.Code\"].unique()[:10])"
   ]
  },
  {
   "cell_type": "code",
   "execution_count": 52,
   "id": "ce46843c",
   "metadata": {},
   "outputs": [
    {
     "name": "stdout",
     "output_type": "stream",
     "text": [
      "['Plastics Materials And Basic Forms And Shapes Merchant Wholesalers'\n",
      " 'Translation And Interpretation Services!' 'Dance Companie%'\n",
      " 'Other Chemical And Fertilizer Mineral Mining' 'Silver Ore Mining'\n",
      " 'Farm Management Services'\n",
      " 'Ornamental And Architectural Metal Work Manufacturing!'\n",
      " 'Geophysical Surveying And Mapping Services!'\n",
      " 'Bare Printed Circuit Board Manufacturing'\n",
      " 'Pipeline Transportation Of Crude Oil']\n"
     ]
    }
   ],
   "source": [
    "# Ensure all items in 2017.NAICS.Title are clean strings\n",
    "df[\"2017.NAICS.Title\"] = df[\"2017.NAICS.Title\"].astype(str).str.strip().str.title()\n",
    "\n",
    "print(df[\"2017.NAICS.Title\"].unique()[:10])"
   ]
  },
  {
   "cell_type": "code",
   "execution_count": 53,
   "id": "b9df0de5",
   "metadata": {},
   "outputs": [
    {
     "name": "stdout",
     "output_type": "stream",
     "text": [
      "0     04240\n",
      "1     54190\n",
      "2    711100\n",
      "3     02123\n",
      "4     02122\n",
      "Name: Reference.USEEIO.Code, dtype: object\n"
     ]
    }
   ],
   "source": [
    "#Clean the Reference.USEEIO.Code column. Remove any special characters and add leading zeros if it does not have 5 digits.  \n",
    "def clean_reference_code(code):\n",
    "    cleaned_code = re.sub(r'\\D', '', str(code))  # Remove special characters\n",
    "    return cleaned_code.zfill(5) if cleaned_code else \"\"\n",
    "\n",
    "df[\"Reference.USEEIO.Code\"] = df[\"Reference.USEEIO.Code\"].apply(clean_reference_code)\n",
    "print(df[\"Reference.USEEIO.Code\"].head())"
   ]
  },
  {
   "cell_type": "code",
   "execution_count": 54,
   "id": "ffee7420",
   "metadata": {},
   "outputs": [
    {
     "name": "stdout",
     "output_type": "stream",
     "text": [
      "Updated Data Types:\n",
      "2017.NAICS.Code                                   object\n",
      "2017.NAICS.Title                                  object\n",
      "GHG                                               object\n",
      "Unit                                              object\n",
      "Supply.Chain.Emission.Factors.without.Margins     object\n",
      "Margins.of.Supply.Chain.Emission.Factors         float64\n",
      "Supply.Chain.Emission.Factors.with.Margins       float64\n",
      "Reference.USEEIO.Code                             object\n",
      "dtype: object\n"
     ]
    }
   ],
   "source": [
    "#Ensure all elements of Margins.of.Supply.Chain.Emission.Factors and Supply.Chain.Emission.Factors.with.Margins are numeric\n",
    "num_cols = [\n",
    "    \"Margins.of.Supply.Chain.Emission.Factors\",\n",
    "    \"Supply.Chain.Emission.Factors.with.Margins\"\n",
    "]\n",
    "\n",
    "for col in num_cols:\n",
    "    df[col] = pd.to_numeric(df[col], errors='coerce')  \n",
    "\n",
    "print(\"Updated Data Types:\")\n",
    "print(df.dtypes)"
   ]
  },
  {
   "cell_type": "code",
   "execution_count": 55,
   "id": "a80cc5f0",
   "metadata": {},
   "outputs": [
    {
     "name": "stdout",
     "output_type": "stream",
     "text": [
      "Data after cleaning:\n",
      "  2017.NAICS.Code                                   2017.NAICS.Title  \\\n",
      "0             NaN  Plastics Materials And Basic Forms And Shapes ...   \n",
      "1             NaN           Translation And Interpretation Services!   \n",
      "2             NaN                                    Dance Companie%   \n",
      "3             NaN       Other Chemical And Fertilizer Mineral Mining   \n",
      "4             NaN                                  Silver Ore Mining   \n",
      "\n",
      "        GHG                               Unit  \\\n",
      "0  All GHGs  kg CO2e/2022 USD, purchaser price   \n",
      "1  All GHGs  kg CO2e/2022 USD, purchaser price   \n",
      "2  All GHGs  kg CO2e/2022 USD, purchaser price   \n",
      "3  All GHGs  kg CO2e/2022 USD, purchaser price   \n",
      "4  All GHGs  kg CO2e/2022 USD, purchaser price   \n",
      "\n",
      "  Supply.Chain.Emission.Factors.without.Margins  \\\n",
      "0                                         0.144   \n",
      "1                                          0.08   \n",
      "2                                         0.086   \n",
      "3                                         0.184   \n",
      "4                                          0.54   \n",
      "\n",
      "   Margins.of.Supply.Chain.Emission.Factors  \\\n",
      "0                                      0.00   \n",
      "1                                      0.00   \n",
      "2                                      0.00   \n",
      "3                                      0.10   \n",
      "4                                      0.05   \n",
      "\n",
      "   Supply.Chain.Emission.Factors.with.Margins Reference.USEEIO.Code  \n",
      "0                                       0.144                 04240  \n",
      "1                                       0.080                 54190  \n",
      "2                                       0.086                711100  \n",
      "3                                       0.310                 02123  \n",
      "4                                       0.593                 02122  \n"
     ]
    }
   ],
   "source": [
    "print(\"Data after cleaning:\")\n",
    "print(df.head())"
   ]
  },
  {
   "cell_type": "code",
   "execution_count": null,
   "id": "662a48ea",
   "metadata": {},
   "outputs": [],
   "source": []
  }
 ],
 "metadata": {
  "kernelspec": {
   "display_name": "Python 3 (ipykernel)",
   "language": "python",
   "name": "python3"
  },
  "language_info": {
   "codemirror_mode": {
    "name": "ipython",
    "version": 3
   },
   "file_extension": ".py",
   "mimetype": "text/x-python",
   "name": "python",
   "nbconvert_exporter": "python",
   "pygments_lexer": "ipython3",
   "version": "3.9.7"
  }
 },
 "nbformat": 4,
 "nbformat_minor": 5
}
